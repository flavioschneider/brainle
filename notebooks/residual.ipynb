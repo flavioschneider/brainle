{
 "cells": [
  {
   "cell_type": "code",
   "execution_count": 1,
   "id": "8d66c14a",
   "metadata": {},
   "outputs": [],
   "source": [
    "import os\n",
    "import sys\n",
    "sys.path.append(os.path.abspath(os.path.join('..')))"
   ]
  },
  {
   "cell_type": "code",
   "execution_count": 5,
   "id": "e4a77367",
   "metadata": {},
   "outputs": [
    {
     "name": "stdout",
     "output_type": "stream",
     "text": [
      "torch.Size([1, 128, 4, 4]) torch.Size([1, 3, 16, 16])\n"
     ]
    }
   ],
   "source": [
    "import torch \n",
    "import torch.nn as nn \n",
    "\n",
    "from brainle.models.architectures.residual import ResidualEncoder, ResidualDecoder\n",
    "        \n",
    "\n",
    "enc = ResidualEncoder(\n",
    "    in_channels = 3, \n",
    "    out_channels = 128, \n",
    "    num_channels = 128, \n",
    "    num_blocks = 2, \n",
    "    res_channels = 32, \n",
    "    num_downscales = 2\n",
    ")\n",
    "\n",
    "dec = ResidualDecoder(\n",
    "    in_channels = 128, \n",
    "    out_channels = 3, \n",
    "    num_channels = 128, \n",
    "    num_blocks = 2, \n",
    "    res_channels = 32, \n",
    "    num_upscales = 2\n",
    ")\n",
    "\n",
    "z = enc(torch.rand(1,3,16,16))\n",
    "x_hat = dec(z)\n",
    "\n",
    "print(z.shape, x_hat.shape)"
   ]
  }
 ],
 "metadata": {
  "kernelspec": {
   "display_name": "venv",
   "language": "python",
   "name": "venv"
  },
  "language_info": {
   "codemirror_mode": {
    "name": "ipython",
    "version": 3
   },
   "file_extension": ".py",
   "mimetype": "text/x-python",
   "name": "python",
   "nbconvert_exporter": "python",
   "pygments_lexer": "ipython3",
   "version": "3.9.5"
  }
 },
 "nbformat": 4,
 "nbformat_minor": 5
}
