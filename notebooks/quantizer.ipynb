{
 "cells": [
  {
   "cell_type": "code",
   "execution_count": 1,
   "id": "ee154ee1",
   "metadata": {},
   "outputs": [],
   "source": [
    "import os\n",
    "import sys\n",
    "sys.path.append(os.path.abspath(os.path.join('..')))"
   ]
  },
  {
   "cell_type": "code",
   "execution_count": 2,
   "id": "cf951477",
   "metadata": {},
   "outputs": [],
   "source": [
    "from typing import List\n",
    "\n",
    "import torch\n",
    "import torch.nn as nn\n",
    "import torch.nn.functional as F\n",
    "from torch import Tensor, einsum\n",
    "from einops import parse_shape, rearrange, repeat, reduce\n",
    "\n",
    "def count_parameters(model: nn.Module):\n",
    "    return sum(p.numel() for p in model.parameters() if p.requires_grad)"
   ]
  },
  {
   "cell_type": "code",
   "execution_count": 3,
   "id": "4c689a21",
   "metadata": {},
   "outputs": [
    {
     "data": {
      "text/plain": [
       "torch.Size([2, 1000])"
      ]
     },
     "execution_count": 3,
     "metadata": {},
     "output_type": "execute_result"
    }
   ],
   "source": [
    "from brainle.models.architectures.quantizer import QuantizerBase, MQBlock\n",
    "\n",
    "base = QuantizerBase()\n",
    "q = torch.rand(2, 8)\n",
    "v = torch.rand(1000, 8)\n",
    "z = base(q,v)\n",
    "z['onehot'].shape"
   ]
  },
  {
   "cell_type": "code",
   "execution_count": 4,
   "id": "d9ff47fa",
   "metadata": {},
   "outputs": [
    {
     "name": "stdout",
     "output_type": "stream",
     "text": [
      "dict_keys(['embedding', 'indices', 'onehot', 'perplexity'])\n",
      "torch.Size([1, 100, 64]) torch.Size([1, 100]) torch.Size([1, 100, 1000]) tensor(5.4572)\n"
     ]
    }
   ],
   "source": [
    "block = MQBlock(\n",
    "    features = 64,\n",
    "    memory_size = 1000\n",
    ")\n",
    "block.train()\n",
    "x = torch.rand(1, 100, 64) # [b, n, c]\n",
    "z = block(x)\n",
    "\n",
    "print(z.keys())\n",
    "print(z['embedding'].shape, z['indices'].shape, z['onehot'].shape, z['perplexity'])"
   ]
  },
  {
   "cell_type": "code",
   "execution_count": 7,
   "id": "bcf6cb80",
   "metadata": {},
   "outputs": [
    {
     "name": "stdout",
     "output_type": "stream",
     "text": [
      "torch.Size([1, 4, 128])\n",
      "torch.Size([1, 4, 128]) torch.Size([1, 16]) torch.Size([1, 16, 1024]) tensor([2.0000, 4.0000, 1.0000, 1.7548])\n"
     ]
    }
   ],
   "source": [
    "from brainle.models.architectures.quantizer import MultiMQ\n",
    "\n",
    "# Image encoder output \n",
    "z = torch.rand([1, 128, 2, 2])\n",
    "# Rearrange for quantizer  \n",
    "z = rearrange(z, 'b c h w -> b (h w) c')\n",
    "\n",
    "quantizer = MultiMQ(\n",
    "    channels_list = [32, 32, 32, 32],\n",
    "    memory_size = 1024\n",
    ")\n",
    "\n",
    "print(z.shape)\n",
    "z = quantizer(z)\n",
    "print(z['embedding'].shape, z['indices'].shape, z['onehot'].shape, z['perplexity'])"
   ]
  },
  {
   "cell_type": "code",
   "execution_count": 14,
   "id": "cfb0b469",
   "metadata": {},
   "outputs": [
    {
     "name": "stdout",
     "output_type": "stream",
     "text": [
      "{'a': 1, 0: 2, 1: 2, 2: 2, 3: 2, 4: 2}\n"
     ]
    }
   ],
   "source": [
    "x =  { 'a': 1 }\n",
    "x.update({ i: 2 for i in range(5)})\n",
    "\n",
    "print(x)"
   ]
  },
  {
   "cell_type": "code",
   "execution_count": null,
   "id": "8b6de02a",
   "metadata": {},
   "outputs": [],
   "source": []
  }
 ],
 "metadata": {
  "kernelspec": {
   "display_name": "venv",
   "language": "python",
   "name": "venv"
  },
  "language_info": {
   "codemirror_mode": {
    "name": "ipython",
    "version": 3
   },
   "file_extension": ".py",
   "mimetype": "text/x-python",
   "name": "python",
   "nbconvert_exporter": "python",
   "pygments_lexer": "ipython3",
   "version": "3.9.5"
  }
 },
 "nbformat": 4,
 "nbformat_minor": 5
}
