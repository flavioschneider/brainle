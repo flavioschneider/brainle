{
 "cells": [
  {
   "cell_type": "code",
   "execution_count": 1,
   "id": "ee154ee1",
   "metadata": {},
   "outputs": [],
   "source": [
    "import os\n",
    "import sys\n",
    "sys.path.append(os.path.abspath(os.path.join('..')))"
   ]
  },
  {
   "cell_type": "code",
   "execution_count": 2,
   "id": "cf951477",
   "metadata": {},
   "outputs": [],
   "source": [
    "from typing import List\n",
    "\n",
    "import torch\n",
    "import torch.nn as nn\n",
    "import torch.nn.functional as F\n",
    "from torch import Tensor, einsum\n",
    "from einops import parse_shape, rearrange, repeat, reduce\n",
    "\n",
    "def count_parameters(model: nn.Module):\n",
    "    return sum(p.numel() for p in model.parameters() if p.requires_grad)"
   ]
  },
  {
   "cell_type": "code",
   "execution_count": 3,
   "id": "4c689a21",
   "metadata": {},
   "outputs": [
    {
     "data": {
      "text/plain": [
       "torch.Size([2, 1000])"
      ]
     },
     "execution_count": 3,
     "metadata": {},
     "output_type": "execute_result"
    }
   ],
   "source": [
    "from brainle.models.architectures.quantizer import QuantizerBase, MQBlock\n",
    "\n",
    "base = QuantizerBase()\n",
    "q = torch.rand(2, 8)\n",
    "v = torch.rand(1000, 8)\n",
    "z = base(q,v)\n",
    "z['onehot'].shape"
   ]
  },
  {
   "cell_type": "code",
   "execution_count": 4,
   "id": "d9ff47fa",
   "metadata": {},
   "outputs": [
    {
     "data": {
      "text/plain": [
       "{'embedding': tensor([[[-0.3062, -0.0849, -0.7431,  ..., -0.3642, -1.1234, -0.7491],\n",
       "          [-0.1961, -0.9407, -0.4036,  ...,  1.1472,  0.7790, -0.5941],\n",
       "          [-0.1961, -0.9407, -0.4036,  ...,  1.1472,  0.7790, -0.5941],\n",
       "          ...,\n",
       "          [-0.3062, -0.0849, -0.7431,  ..., -0.3642, -1.1234, -0.7491],\n",
       "          [ 0.4328,  1.4820,  0.4374,  ..., -0.1688,  1.7391, -0.4134],\n",
       "          [-0.3062, -0.0849, -0.7431,  ..., -0.3642, -1.1234, -0.7491]]]),\n",
       " 'indices': tensor([[509, 927, 927, 338, 927, 927, 927, 761, 927, 338, 958, 845, 927, 338,\n",
       "           71, 927, 338, 958, 958, 509, 761, 958, 927, 669, 741, 338, 927, 741,\n",
       "          927, 927, 927, 927, 231, 927, 754, 992, 338, 589, 761, 927, 927, 669,\n",
       "          845, 927, 338, 927, 845, 927, 958, 958, 927, 338, 741, 338, 927, 338,\n",
       "          927, 927, 176, 927, 509, 927, 741, 338, 927, 927, 993, 927, 338, 927,\n",
       "          927, 338, 927, 338, 927, 927, 927, 754, 927, 958, 927, 927, 958, 669,\n",
       "          927, 958, 845, 927, 927, 741, 338, 741, 927, 761, 761, 927, 509, 509,\n",
       "          845, 509]]),\n",
       " 'onehot': tensor([[[0., 0., 0.,  ..., 0., 0., 0.],\n",
       "          [0., 0., 0.,  ..., 0., 0., 0.],\n",
       "          [0., 0., 0.,  ..., 0., 0., 0.],\n",
       "          ...,\n",
       "          [0., 0., 0.,  ..., 0., 0., 0.],\n",
       "          [0., 0., 0.,  ..., 0., 0., 0.],\n",
       "          [0., 0., 0.,  ..., 0., 0., 0.]]]),\n",
       " 'perplexity': tensor(7.1073)}"
      ]
     },
     "execution_count": 4,
     "metadata": {},
     "output_type": "execute_result"
    }
   ],
   "source": [
    "block = MQBlock(\n",
    "    features = 64,\n",
    "    memory_size = 1000\n",
    ")\n",
    "block.train()\n",
    "x = torch.rand(1, 100, 64)\n",
    "z = block(x)\n",
    "z"
   ]
  },
  {
   "cell_type": "code",
   "execution_count": null,
   "id": "bcf6cb80",
   "metadata": {},
   "outputs": [],
   "source": []
  }
 ],
 "metadata": {
  "kernelspec": {
   "display_name": "venv",
   "language": "python",
   "name": "venv"
  },
  "language_info": {
   "codemirror_mode": {
    "name": "ipython",
    "version": 3
   },
   "file_extension": ".py",
   "mimetype": "text/x-python",
   "name": "python",
   "nbconvert_exporter": "python",
   "pygments_lexer": "ipython3",
   "version": "3.9.5"
  }
 },
 "nbformat": 4,
 "nbformat_minor": 5
}
