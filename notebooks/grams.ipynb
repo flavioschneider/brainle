{
 "cells": [
  {
   "cell_type": "code",
   "execution_count": 1,
   "id": "d00deede",
   "metadata": {},
   "outputs": [],
   "source": [
    "import os\n",
    "import sys\n",
    "sys.path.append(os.path.abspath(os.path.join('..')))"
   ]
  },
  {
   "cell_type": "code",
   "execution_count": 2,
   "id": "62fe5ad5",
   "metadata": {},
   "outputs": [],
   "source": [
    "from typing import List\n",
    "\n",
    "import time \n",
    "import torch\n",
    "import torch.nn as nn\n",
    "import torch.nn.functional as F\n",
    "import numpy as np\n",
    "from torch import Tensor, einsum\n",
    "from einops import parse_shape, rearrange, repeat\n",
    "\n",
    "np.set_printoptions(precision=3, edgeitems=20, linewidth=250)\n",
    "torch.set_printoptions(precision=3, sci_mode=False, edgeitems=20, linewidth=250)\n",
    "\n",
    "def count_parameters(model: nn.Module):\n",
    "    return sum(p.numel() for p in model.parameters() if p.requires_grad)\n",
    "\n",
    "def count_parameters_all(model: nn.Module):\n",
    "    return sum(p.numel() for p in model.parameters())"
   ]
  },
  {
   "cell_type": "code",
   "execution_count": 12,
   "id": "ecb7824a",
   "metadata": {
    "scrolled": false
   },
   "outputs": [
    {
     "data": {
      "image/png": "[encoded data removed]",
      "text/plain": [
       "<Figure size 432x288 with 1 Axes>"
      ]
     },
     "metadata": {},
     "output_type": "display_data"
    },
    {
     "name": "stdout",
     "output_type": "stream",
     "text": [
      "tensor([[[0.000, 0.000, 0.000, 0.000, 0.000, 0.000, 0.000, 0.000, 0.000, 1.000, 0.000],\n",
      "         [0.000, 0.000, 0.000, 0.000, 0.000, 0.000, 0.000, 0.000, 0.514, 0.000, 0.486],\n",
      "         [0.000, 0.000, 0.000, 1.000, 0.000, 0.000, 0.000, 0.000, 0.000, 0.000, 0.000],\n",
      "         [0.181, 0.177, 0.163, 0.156, 0.161, 0.162, 0.000, 0.000, 0.000, 0.000, 0.000],\n",
      "         [0.091, 0.091, 0.091, 0.091, 0.091, 0.091, 0.091, 0.091, 0.091, 0.091, 0.091]]], grad_fn=<SoftmaxBackward0>)\n"
     ]
    }
   ],
   "source": [
    "import matplotlib.pyplot as plt\n",
    "import networkx as nx\n",
    "import pydot\n",
    "from itertools import product\n",
    "from networkx.drawing.nx_pydot import graphviz_layout\n",
    "\n",
    "\n",
    "def plot_attention_matrix(x: Tensor):\n",
    "    w, h = x.shape \n",
    "    x = x.detach().numpy()\n",
    "    plt.imshow(x)\n",
    "    plt.colorbar()\n",
    "        \n",
    "def plot_graph(graph: nx.Graph):\n",
    "    options = { \n",
    "        \"node_size\": 350, \n",
    "        \"arrows\": True, \n",
    "        \"with_labels\": True, \n",
    "        \"font_color\": 'white'\n",
    "    }\n",
    "    pos = graphviz_layout(graph, prog='dot')\n",
    "    weights = [graph[u][v]['weight']*5 for u,v in graph.edges()]\n",
    "    nx.draw(graph, pos, width = weights, **options)\n",
    "    plt.show()\n",
    "\n",
    "class Treegram(nn.Module):\n",
    "    \n",
    "    def __init__(\n",
    "        self, \n",
    "        num_features: int, \n",
    "        block_size: int\n",
    "    ):\n",
    "        super().__init__()\n",
    "        self.num_features = num_features\n",
    "        self.block_size = block_size\n",
    "        self.scale = num_features ** -0.5\n",
    "        # Deepest possible tree with n leaves has n-1 nodes\n",
    "        self.num_base_nodes = block_size\n",
    "        self.num_extra_nodes = self.num_base_nodes - 1\n",
    "        self.num_nodes = self.num_base_nodes + self.num_extra_nodes\n",
    "    \n",
    "        self.to_z = nn.Linear(\n",
    "            in_features=self.num_base_nodes, \n",
    "            out_features=self.num_extra_nodes\n",
    "        )\n",
    "        self.to_q = nn.Linear(\n",
    "            in_features=num_features, \n",
    "            out_features=num_features\n",
    "        )\n",
    "        self.to_k = nn.Linear(\n",
    "            in_features=num_features, \n",
    "            out_features=num_features\n",
    "        )\n",
    "        self.to_v = nn.Linear(\n",
    "            in_features=num_features, \n",
    "            out_features=num_features\n",
    "        )\n",
    "        \n",
    "    def forward(self, x: Tensor) -> Tensor:\n",
    "        b, n, c = x.shape\n",
    "        # Dimensionality checks\n",
    "        assert n == self.block_size\n",
    "        assert c == self.num_features\n",
    "        # Compute extra tokens \n",
    "        z = rearrange(x, 'b n c -> b c n')\n",
    "        z = self.to_z(z)\n",
    "        z = rearrange(z, 'b c n -> b n c')\n",
    "        # Concatenate all tokens \n",
    "        xz = torch.cat([x, z], dim = 1)\n",
    "        # Only extra tokens make queries (we don't care about input token relations)\n",
    "        q = self.to_q(z)\n",
    "        # All nodes are used for keys \n",
    "        k = self.to_k(xz)\n",
    "        # Compute similarity to get tree adjacency matrix \n",
    "        sim = einsum('b i l, b j l -> b i j', q, k) * self.scale \n",
    "        # Build MST masks \n",
    "        mask = torch.zeros_like(sim, dtype=torch.bool)\n",
    "        for i in range(b):  \n",
    "            graph = self.tensor_to_graph(sim[i])\n",
    "            tree = nx.maximum_spanning_tree(graph)\n",
    "            mask[i] = self.graph_to_tensor(tree)\n",
    "            plot_graph(tree)\n",
    "        # Apply mask \n",
    "        mask_value = -torch.finfo(sim.dtype).max\n",
    "        sim = sim.masked_fill(~mask, mask_value)\n",
    "        # Get attention scores with stable softmax \n",
    "        sim = sim - sim.amax(dim = -1, keepdim = True).detach()\n",
    "        att = sim.softmax(dim = -1)\n",
    "        return att\n",
    "    \n",
    "    def tensor_to_graph(self, x: Tensor) -> nx.Graph:\n",
    "        num_extra_nodes, num_nodes = x.shape\n",
    "        # Build graph with `num_nodes` nodes\n",
    "        graph = nx.Graph()\n",
    "        graph.add_nodes_from(range(num_nodes))\n",
    "        # Build edge triplets (source, target, weight)\n",
    "        edges = product(range(num_extra_nodes), range(num_nodes))\n",
    "        triples = ((u + self.num_base_nodes, v, dict(weight = x[u, v])) for u, v in edges)\n",
    "        graph.add_edges_from(triples)\n",
    "        return graph         \n",
    "        \n",
    "    def graph_to_tensor(self, graph: nx.Graph) -> Tensor:\n",
    "        x = torch.zeros((self.num_extra_nodes, self.num_nodes))\n",
    "        for u, v, data in graph.edges(data = True):\n",
    "            w = data['weight']\n",
    "            if u < self.num_base_nodes:\n",
    "                x[v-self.num_base_nodes, u] = w\n",
    "            else:\n",
    "                x[u-self.num_base_nodes, v] = w\n",
    "        return x\n",
    "    \n",
    "\n",
    "block_size = 6\n",
    "num_features = 64\n",
    "\n",
    "block = Treegram(\n",
    "    num_features = num_features,\n",
    "    block_size = block_size\n",
    ")\n",
    "\n",
    "x = torch.rand(1, block_size, num_features)\n",
    "out = block(x)\n",
    "print(out)"
   ]
  },
  {
   "cell_type": "code",
   "execution_count": 13,
   "id": "2dc977c6",
   "metadata": {},
   "outputs": [
    {
     "data": {
      "image/png": "[encoded data removed]",
      "text/plain": [
       "<Figure size 432x288 with 2 Axes>"
      ]
     },
     "metadata": {
      "needs_background": "light"
     },
     "output_type": "display_data"
    }
   ],
   "source": [
    "plot_attention_matrix(out[0])"
   ]
  },
  {
   "cell_type": "code",
   "execution_count": 5,
   "id": "b82948a6",
   "metadata": {},
   "outputs": [],
   "source": [
    "labels = {\n",
    "    0: 'a',\n",
    "    1: 'b',\n",
    "    2: 'c'\n",
    "}\n",
    "options = { \n",
    "            \"node_size\": 350, \n",
    "            \"alpha\": 1.0, \n",
    "            \"arrows\": True, \n",
    "            \"with_labels\": True, \n",
    "            \"font_color\": 'white', \n",
    "            #\"labels\": labels \n",
    "        }\n",
    "#labels = nx.get_edge_attributes(tree_nx, 'weight')\n",
    "#nx.draw_networkx_edge_labels(tree_nx, pos, edge_labels=labels)\n",
    "#print(pos)"
   ]
  },
  {
   "cell_type": "code",
   "execution_count": 8,
   "id": "5252925f",
   "metadata": {},
   "outputs": [
    {
     "name": "stdout",
     "output_type": "stream",
     "text": [
      "torch.Size([1, 6, 3])\n"
     ]
    }
   ],
   "source": [
    "from brainle.models.architectures.grams import BigramEncoder, BigramDecoder, BigramNet\n",
    "     \n",
    "num_tokens = 6\n",
    "num_nodes = num_tokens // 2\n",
    "num_features = 3\n",
    "\n",
    "enc = BigramEncoder(\n",
    "    num_features = num_features,\n",
    "    num_nodes = num_nodes,\n",
    "    num_tokens = num_tokens,\n",
    ")\n",
    "dec = BigramDecoder(\n",
    "    num_features = num_features,\n",
    "    num_nodes = num_nodes,\n",
    "    num_tokens = num_tokens,\n",
    ")\n",
    "x = torch.rand(1, num_tokens, num_features)\n",
    "y, att = enc(x)\n",
    "out = dec(y, att)\n",
    "print(out.shape)"
   ]
  },
  {
   "cell_type": "code",
   "execution_count": 11,
   "id": "da6ad16d",
   "metadata": {},
   "outputs": [
    {
     "name": "stdout",
     "output_type": "stream",
     "text": [
      "torch.Size([2, 32])\n",
      "torch.Size([2, 32, 800])\n",
      "tensor(12., grad_fn=<SumBackward0>)\n"
     ]
    },
    {
     "data": {
      "text/plain": [
       "122960"
      ]
     },
     "execution_count": 11,
     "metadata": {},
     "output_type": "execute_result"
    },
    {
     "data": {
      "image/png": "[encoded data removed]",
      "text/plain": [
       "<Figure size 432x288 with 1 Axes>"
      ]
     },
     "metadata": {
      "needs_background": "light"
     },
     "output_type": "display_data"
    }
   ],
   "source": [
    "num_features = 64\n",
    "num_tokens = 32\n",
    "num_nodes = 16\n",
    "vocabulary_size = 800\n",
    "batch_size = 2\n",
    "\n",
    "net = BigramNet(\n",
    "    num_features = num_features,\n",
    "    num_tokens = num_tokens,\n",
    "    num_nodes = num_nodes,\n",
    "    vocabulary_size = vocabulary_size\n",
    ")\n",
    "\n",
    "x = torch.randint(low=0, high=vocabulary_size, size=(batch_size, num_tokens))\n",
    "print(x.shape)\n",
    "out, att = net(x)  \n",
    "print(out.shape)\n",
    "print(att[0].sum())\n",
    "plot_attention_matrix(att[0])\n",
    "count_parameters(net)"
   ]
  },
  {
   "cell_type": "code",
   "execution_count": 14,
   "id": "69c7db62",
   "metadata": {},
   "outputs": [
    {
     "name": "stdout",
     "output_type": "stream",
     "text": [
      "['a', ' ', 't', 'e', 's', 't']\n"
     ]
    }
   ],
   "source": [
    "t = 'a test'\n",
    "print(list(t))"
   ]
  },
  {
   "cell_type": "code",
   "execution_count": null,
   "id": "e9d7b224",
   "metadata": {},
   "outputs": [],
   "source": []
  }
 ],
 "metadata": {
  "kernelspec": {
   "display_name": "Python 3 (ipykernel)",
   "language": "python",
   "name": "python3"
  },
  "language_info": {
   "codemirror_mode": {
    "name": "ipython",
    "version": 3
   },
   "file_extension": ".py",
   "mimetype": "text/x-python",
   "name": "python",
   "nbconvert_exporter": "python",
   "pygments_lexer": "ipython3",
   "version": "3.9.5"
  }
 },
 "nbformat": 4,
 "nbformat_minor": 5
}
