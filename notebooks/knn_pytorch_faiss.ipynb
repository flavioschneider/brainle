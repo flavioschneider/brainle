{
 "cells": [
  {
   "cell_type": "code",
   "execution_count": 1,
   "id": "409cbd6f",
   "metadata": {},
   "outputs": [],
   "source": [
    "import os\n",
    "import sys\n",
    "sys.path.append(os.path.abspath(os.path.join('..')))"
   ]
  },
  {
   "cell_type": "code",
   "execution_count": 2,
   "id": "4385f317",
   "metadata": {},
   "outputs": [],
   "source": [
    "from typing import List, Dict\n",
    "\n",
    "import torch\n",
    "import torch.nn as nn\n",
    "import torch.nn.functional as F\n",
    "import time \n",
    "from torch import Tensor, einsum\n",
    "from einops import parse_shape, rearrange, repeat, reduce\n",
    "\n",
    "def count_parameters(model: nn.Module):\n",
    "    return sum(p.numel() for p in model.parameters() if p.requires_grad)"
   ]
  },
  {
   "cell_type": "code",
   "execution_count": 3,
   "id": "dfa7ff8c",
   "metadata": {
    "scrolled": false
   },
   "outputs": [
    {
     "name": "stdout",
     "output_type": "stream",
     "text": [
      "Inserted 10M elements in 2.7754080295562744s\n"
     ]
    }
   ],
   "source": [
    "from brainle.models.architectures.knn import KNNBlock\n",
    "\n",
    "block = KNNBlock(\n",
    "    features = 64\n",
    ")\n",
    "\n",
    "# Insertion \n",
    "start = time.time()\n",
    "for i in range(1000):\n",
    "    block.push(torch.rand(10_000, 64))\n",
    "print(f\"Inserted 10M elements in {time.time() - start}s\", )       "
   ]
  },
  {
   "cell_type": "code",
   "execution_count": 4,
   "id": "ae0adc97",
   "metadata": {},
   "outputs": [
    {
     "name": "stdout",
     "output_type": "stream",
     "text": [
      "Searched 1K elements in 5.253890037536621s\n",
      "torch.Size([1000, 5, 64])\n"
     ]
    }
   ],
   "source": [
    "# Search \n",
    "x = torch.rand(1000, 64)\n",
    "start = time.time()\n",
    "out = block(x, k=5)\n",
    "print(f\"Searched 1K elements in {time.time() - start}s\", )       \n",
    "print(out['embedding'].shape)"
   ]
  },
  {
   "cell_type": "code",
   "execution_count": 5,
   "id": "07b60ae3",
   "metadata": {},
   "outputs": [
    {
     "name": "stdout",
     "output_type": "stream",
     "text": [
      "11.796071290969849\n"
     ]
    }
   ],
   "source": [
    "# Comparison with (smaller) full matrix product \n",
    "start = time.time()\n",
    "(torch.rand([5_000_000, 64]) @ torch.rand([64, 1000])).shape\n",
    "print(time.time() - start)"
   ]
  },
  {
   "cell_type": "code",
   "execution_count": null,
   "id": "58175b99",
   "metadata": {},
   "outputs": [],
   "source": []
  }
 ],
 "metadata": {
  "kernelspec": {
   "display_name": "venv",
   "language": "python",
   "name": "venv"
  },
  "language_info": {
   "codemirror_mode": {
    "name": "ipython",
    "version": 3
   },
   "file_extension": ".py",
   "mimetype": "text/x-python",
   "name": "python",
   "nbconvert_exporter": "python",
   "pygments_lexer": "ipython3",
   "version": "3.9.5"
  }
 },
 "nbformat": 4,
 "nbformat_minor": 5
}
