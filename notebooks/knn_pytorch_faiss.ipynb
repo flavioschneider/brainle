{
 "cells": [
  {
   "cell_type": "code",
   "execution_count": 2,
   "id": "dab80b3e",
   "metadata": {},
   "outputs": [],
   "source": [
    "import os\n",
    "import sys\n",
    "sys.path.append(os.path.abspath(os.path.join('..')))"
   ]
  },
  {
   "cell_type": "code",
   "execution_count": 9,
   "id": "4a100124",
   "metadata": {},
   "outputs": [],
   "source": [
    "from typing import List, Dict\n",
    "\n",
    "import torch\n",
    "import torch.nn as nn\n",
    "import torch.nn.functional as F\n",
    "import time \n",
    "from torch import Tensor, einsum\n",
    "from einops import parse_shape, rearrange, repeat, reduce\n",
    "\n",
    "def count_parameters(model: nn.Module):\n",
    "    return sum(p.numel() for p in model.parameters() if p.requires_grad)"
   ]
  },
  {
   "cell_type": "code",
   "execution_count": 12,
   "id": "620be76e",
   "metadata": {
    "scrolled": false
   },
   "outputs": [
    {
     "ename": "NameError",
     "evalue": "name 'Tensor' is not defined",
     "output_type": "error",
     "traceback": [
      "\u001b[0;31m---------------------------------------------------------------------------\u001b[0m",
      "\u001b[0;31mNameError\u001b[0m                                 Traceback (most recent call last)",
      "Input \u001b[0;32mIn [12]\u001b[0m, in \u001b[0;36m<module>\u001b[0;34m\u001b[0m\n\u001b[0;32m----> 1\u001b[0m \u001b[38;5;28;01mfrom\u001b[39;00m \u001b[38;5;21;01mbrainle\u001b[39;00m\u001b[38;5;21;01m.\u001b[39;00m\u001b[38;5;21;01mmodels\u001b[39;00m\u001b[38;5;21;01m.\u001b[39;00m\u001b[38;5;21;01marchitectures\u001b[39;00m\u001b[38;5;21;01m.\u001b[39;00m\u001b[38;5;21;01mknn\u001b[39;00m \u001b[38;5;28;01mimport\u001b[39;00m KNNBlock\n\u001b[1;32m      4\u001b[0m block \u001b[38;5;241m=\u001b[39m KNNBlock(\n\u001b[1;32m      5\u001b[0m     features \u001b[38;5;241m=\u001b[39m \u001b[38;5;241m64\u001b[39m\n\u001b[1;32m      6\u001b[0m )\n\u001b[1;32m      8\u001b[0m \u001b[38;5;66;03m# Insertion \u001b[39;00m\n",
      "File \u001b[0;32m~/Documents/brainle/brainle/models/architectures/knn.py:10\u001b[0m, in \u001b[0;36m<module>\u001b[0;34m\u001b[0m\n\u001b[1;32m      6\u001b[0m \u001b[38;5;28;01mimport\u001b[39;00m \u001b[38;5;21;01mtorch\u001b[39;00m\u001b[38;5;21;01m.\u001b[39;00m\u001b[38;5;21;01mnn\u001b[39;00m \u001b[38;5;28;01mas\u001b[39;00m \u001b[38;5;21;01mnn\u001b[39;00m\n\u001b[1;32m      7\u001b[0m \u001b[38;5;28;01mimport\u001b[39;00m \u001b[38;5;21;01mnumpy\u001b[39;00m \u001b[38;5;28;01mas\u001b[39;00m \u001b[38;5;21;01mnp\u001b[39;00m\n\u001b[0;32m---> 10\u001b[0m \u001b[38;5;28;01mclass\u001b[39;00m \u001b[38;5;21;01mKNNBlock\u001b[39;00m(nn\u001b[38;5;241m.\u001b[39mModule):\n\u001b[1;32m     12\u001b[0m     \u001b[38;5;124;03m\"\"\" Approxiamte KNN adapted for pyTorch using the Faiss library. \"\"\"\u001b[39;00m\n\u001b[1;32m     14\u001b[0m     \u001b[38;5;28;01mdef\u001b[39;00m \u001b[38;5;21m__init__\u001b[39m(\n\u001b[1;32m     15\u001b[0m         \u001b[38;5;28mself\u001b[39m,\n\u001b[1;32m     16\u001b[0m         features: \u001b[38;5;28mint\u001b[39m \n\u001b[1;32m     17\u001b[0m     ):\n",
      "File \u001b[0;32m~/Documents/brainle/brainle/models/architectures/knn.py:22\u001b[0m, in \u001b[0;36mKNNBlock\u001b[0;34m()\u001b[0m\n\u001b[1;32m     19\u001b[0m     \u001b[38;5;28mself\u001b[39m\u001b[38;5;241m.\u001b[39mfeatures \u001b[38;5;241m=\u001b[39m features \n\u001b[1;32m     20\u001b[0m     \u001b[38;5;28mself\u001b[39m\u001b[38;5;241m.\u001b[39mindex \u001b[38;5;241m=\u001b[39m faiss\u001b[38;5;241m.\u001b[39mIndexFlatL2(features) \n\u001b[0;32m---> 22\u001b[0m \u001b[38;5;28;01mdef\u001b[39;00m \u001b[38;5;21mpush\u001b[39m(\u001b[38;5;28mself\u001b[39m, x: \u001b[43mTensor\u001b[49m) \u001b[38;5;241m-\u001b[39m\u001b[38;5;241m>\u001b[39m \u001b[38;5;28mint\u001b[39m:\n\u001b[1;32m     23\u001b[0m     \u001b[38;5;66;03m# Convert to numpy \u001b[39;00m\n\u001b[1;32m     24\u001b[0m     x \u001b[38;5;241m=\u001b[39m x\u001b[38;5;241m.\u001b[39mcpu()\u001b[38;5;241m.\u001b[39mdetach()\u001b[38;5;241m.\u001b[39mnumpy()\n\u001b[1;32m     25\u001b[0m     \u001b[38;5;66;03m# Dimensionality check\u001b[39;00m\n",
      "\u001b[0;31mNameError\u001b[0m: name 'Tensor' is not defined"
     ]
    }
   ],
   "source": [
    "from brainle.models.architectures.knn import KNNBlock\n",
    "\n",
    "    \n",
    "block = KNNBlock(\n",
    "    features = 64\n",
    ")\n",
    "\n",
    "# Insertion \n",
    "start = time.time()\n",
    "for i in range(1000):\n",
    "    block.push(torch.rand(10_000, 64))\n",
    "print(f\"Inserted 10M elements in {time.time() - start}s\", )       "
   ]
  },
  {
   "cell_type": "code",
   "execution_count": 5,
   "id": "6f45ba75",
   "metadata": {},
   "outputs": [
    {
     "name": "stdout",
     "output_type": "stream",
     "text": [
      "Searched 1K elements in 5.172700881958008s\n",
      "torch.Size([1000, 5, 64])\n"
     ]
    }
   ],
   "source": [
    "# Search \n",
    "x = torch.rand(1000, 64)\n",
    "start = time.time()\n",
    "out = block(x, k=5)\n",
    "print(f\"Searched 1K elements in {time.time() - start}s\", )       \n",
    "print(out['embedding'].shape)"
   ]
  },
  {
   "cell_type": "code",
   "execution_count": 7,
   "id": "0bbe0055",
   "metadata": {},
   "outputs": [
    {
     "name": "stdout",
     "output_type": "stream",
     "text": [
      "10.496666193008423\n"
     ]
    }
   ],
   "source": [
    "# Comparison with (smaller) full matrix product \n",
    "start = time.time()\n",
    "(torch.rand([5_000_000, 64]) @ torch.rand([64, 1000])).shape\n",
    "print(time.time() - start)"
   ]
  }
 ],
 "metadata": {
  "kernelspec": {
   "display_name": "venv",
   "language": "python",
   "name": "venv"
  },
  "language_info": {
   "codemirror_mode": {
    "name": "ipython",
    "version": 3
   },
   "file_extension": ".py",
   "mimetype": "text/x-python",
   "name": "python",
   "nbconvert_exporter": "python",
   "pygments_lexer": "ipython3",
   "version": "3.9.5"
  }
 },
 "nbformat": 4,
 "nbformat_minor": 5
}
