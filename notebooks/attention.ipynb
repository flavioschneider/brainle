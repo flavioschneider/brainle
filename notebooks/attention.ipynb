{
 "cells": [
  {
   "cell_type": "code",
   "execution_count": 1,
   "id": "e5edb363",
   "metadata": {},
   "outputs": [],
   "source": [
    "import os\n",
    "import sys\n",
    "sys.path.append(os.path.abspath(os.path.join('..')))"
   ]
  },
  {
   "cell_type": "code",
   "execution_count": 2,
   "id": "8fec723a",
   "metadata": {},
   "outputs": [],
   "source": [
    "from typing import List\n",
    "\n",
    "import torch\n",
    "import torch.nn as nn\n",
    "import torch.nn.functional as F\n",
    "from torch import Tensor, einsum\n",
    "from einops import parse_shape, rearrange, repeat\n",
    "\n",
    "def count_parameters(model: nn.Module):\n",
    "    return sum(p.numel() for p in model.parameters() if p.requires_grad)"
   ]
  },
  {
   "cell_type": "code",
   "execution_count": 3,
   "id": "55378521",
   "metadata": {},
   "outputs": [
    {
     "name": "stdout",
     "output_type": "stream",
     "text": [
      "torch.Size([2, 10, 24])\n",
      "Params: 600\n"
     ]
    }
   ],
   "source": [
    "from brainle.models.architectures.attention import AttentionBase, SABlock, RABlock, MABlock, FeedForwardBlock, TransformerBlock, PatcherBlock, UnpatcherBlock, ConvTention, ConvTeNet\n",
    "        \n",
    "att = AttentionBase(\n",
    "    in_features = 12,\n",
    "    out_features = 24,\n",
    "    num_heads = 4,\n",
    ")\n",
    "q = torch.rand(2, 10, 12)\n",
    "k = torch.rand(2, 20, 12)\n",
    "v = torch.rand(2, 20, 24)\n",
    "print(att(q, k, v).shape)\n",
    "print(f\"Params: {count_parameters(att)}\")"
   ]
  },
  {
   "cell_type": "code",
   "execution_count": 4,
   "id": "341cfb45",
   "metadata": {},
   "outputs": [
    {
     "name": "stdout",
     "output_type": "stream",
     "text": [
      "torch.Size([2, 10, 24])\n",
      "Params: 1176\n"
     ]
    }
   ],
   "source": [
    "block = SABlock(\n",
    "    in_features = 12,\n",
    "    out_features = 24,\n",
    "    num_heads = 4\n",
    ")\n",
    "\n",
    "out = block(torch.rand(2, 10, 12))\n",
    "print(out.shape)        \n",
    "print(f\"Params: {count_parameters(block)}\")"
   ]
  },
  {
   "cell_type": "code",
   "execution_count": 5,
   "id": "edfb6b4d",
   "metadata": {},
   "outputs": [
    {
     "name": "stdout",
     "output_type": "stream",
     "text": [
      "torch.Size([2, 5, 24])\n",
      "Params: 1092\n"
     ]
    }
   ],
   "source": [
    "block = RABlock(\n",
    "    in_tokens = 10,\n",
    "    out_tokens = 5,\n",
    "    in_features = 12,\n",
    "    out_features = 24,\n",
    "    num_heads = 4\n",
    ")\n",
    "\n",
    "out = block(torch.rand(2, 10, 12))\n",
    "print(out.shape)\n",
    "print(f\"Params: {count_parameters(block)}\")"
   ]
  },
  {
   "cell_type": "code",
   "execution_count": 6,
   "id": "a2ce37f1",
   "metadata": {},
   "outputs": [
    {
     "name": "stdout",
     "output_type": "stream",
     "text": [
      "torch.Size([2, 10, 24])\n",
      "Params: 19176\n"
     ]
    }
   ],
   "source": [
    "block = MABlock(\n",
    "    memory_size = 512,\n",
    "    in_features = 12,\n",
    "    out_features = 24,\n",
    "    num_heads = 4\n",
    ")\n",
    "\n",
    "out = block(torch.rand(2, 10, 12))\n",
    "print(out.shape)\n",
    "print(f\"Params: {count_parameters(block)}\")"
   ]
  },
  {
   "cell_type": "code",
   "execution_count": 7,
   "id": "a41e1481",
   "metadata": {},
   "outputs": [
    {
     "name": "stdout",
     "output_type": "stream",
     "text": [
      "torch.Size([2, 10, 512])\n",
      "Params: 2100736\n"
     ]
    }
   ],
   "source": [
    "block = FeedForwardBlock(\n",
    "    features = 512,\n",
    "    multiplier = 4,\n",
    "    dropout = 0.1\n",
    ")\n",
    "out = block(torch.rand(2, 10, 512))\n",
    "print(out.shape)\n",
    "print(f\"Params: {count_parameters(block)}\")"
   ]
  },
  {
   "cell_type": "code",
   "execution_count": 8,
   "id": "611e3e07",
   "metadata": {},
   "outputs": [
    {
     "name": "stdout",
     "output_type": "stream",
     "text": [
      "torch.Size([2, 10, 256])\n",
      "Params: 788992\n"
     ]
    }
   ],
   "source": [
    "block = TransformerBlock(\n",
    "    features = 256,\n",
    "    num_heads = 2,\n",
    "    dropout_attention = 0.1,\n",
    "    dropout_mlp = 0.1,\n",
    "    mlp_multiplier = 4\n",
    ")\n",
    "out = block(torch.rand(2, 10, 256))\n",
    "print(out.shape)\n",
    "print(f\"Params: {count_parameters(block)}\")"
   ]
  },
  {
   "cell_type": "code",
   "execution_count": 9,
   "id": "e105e386",
   "metadata": {},
   "outputs": [
    {
     "name": "stdout",
     "output_type": "stream",
     "text": [
      "tensor([[[1., 1., 1.],\n",
      "         [2., 2., 2.],\n",
      "         [3., 3., 3.],\n",
      "         [4., 4., 4.],\n",
      "         [5., 5., 5.],\n",
      "         [6., 6., 6.]]]) torch.Size([1, 6, 3])\n",
      "tensor([[[[0., 0., 0.],\n",
      "          [1., 1., 1.],\n",
      "          [2., 2., 2.],\n",
      "          [3., 3., 3.]],\n",
      "\n",
      "         [[2., 2., 2.],\n",
      "          [3., 3., 3.],\n",
      "          [4., 4., 4.],\n",
      "          [5., 5., 5.]],\n",
      "\n",
      "         [[4., 4., 4.],\n",
      "          [5., 5., 5.],\n",
      "          [6., 6., 6.],\n",
      "          [0., 0., 0.]]]]) torch.Size([1, 3, 4, 3])\n",
      "tensor([[[1., 1., 1.],\n",
      "         [2., 2., 2.],\n",
      "         [3., 3., 3.],\n",
      "         [4., 4., 4.],\n",
      "         [5., 5., 5.],\n",
      "         [6., 6., 6.]]]) torch.Size([1, 6, 3])\n"
     ]
    }
   ],
   "source": [
    "patcher = PatcherBlock(\n",
    "    kernel_size = 4,\n",
    "    stride = 2,\n",
    "    padding = 1\n",
    ")\n",
    "\n",
    "unpatcher = UnpatcherBlock(\n",
    "    kernel_size = 4,\n",
    "    stride = 2,\n",
    "    padding = 1\n",
    ")\n",
    "x = torch.tensor([[ [1,1,1], [2,2,2], [3,3,3], [4,4,4], [5,5,5], [6,6,6] ]]).float()\n",
    "print(x, x.shape)\n",
    "x = patcher(x)\n",
    "print(x, x.shape)\n",
    "x = unpatcher(x)\n",
    "print(x, x.shape)"
   ]
  },
  {
   "cell_type": "code",
   "execution_count": 10,
   "id": "77407939",
   "metadata": {},
   "outputs": [
    {
     "name": "stdout",
     "output_type": "stream",
     "text": [
      "torch.Size([2, 512, 256])\n",
      "torch.Size([2, 1024, 256])\n",
      "Params: 3746816\n"
     ]
    }
   ],
   "source": [
    "encode = ConvTention(\n",
    "    in_features = 256,\n",
    "    out_features = 256,\n",
    "    num_heads = 8,\n",
    "    num_layers = 4,\n",
    "    out_patch_tokens = 2,\n",
    "    kernel_size = 4,\n",
    "    stride = 4,\n",
    "    padding = 0,\n",
    "    memory_size = 512,\n",
    "    dropout = 0.1\n",
    ")\n",
    "decode = ConvTention(\n",
    "    in_features = 256,\n",
    "    out_features = 256,\n",
    "    num_heads = 8,\n",
    "    num_layers = 4,\n",
    "    out_patch_tokens = 4,\n",
    "    kernel_size = 2,\n",
    "    stride = 2,\n",
    "    padding = 0,\n",
    "    memory_size = 512,\n",
    "    dropout = 0.1\n",
    ")\n",
    "\n",
    "out = encode(torch.rand(2, 1024, 256))\n",
    "print(out.shape)\n",
    "out = decode(out)\n",
    "print(out.shape)\n",
    "print(f\"Params: {count_parameters(encode)}\")"
   ]
  },
  {
   "cell_type": "code",
   "execution_count": 11,
   "id": "f960cec8",
   "metadata": {},
   "outputs": [
    {
     "name": "stdout",
     "output_type": "stream",
     "text": [
      "torch.Size([2, 2048, 800])\n",
      "Params: 47368480\n"
     ]
    }
   ],
   "source": [
    "net = ConvTeNet(\n",
    "    vocabulary_size = 800,\n",
    "    embedding_dim = 256,\n",
    "    num_layers = 7,\n",
    "    num_heads = 8,\n",
    "    use_skip = True\n",
    ")\n",
    "\n",
    "x = torch.randint(low=0, high=800, size=(2, 2048))\n",
    "out = net(x)\n",
    "print(out.shape)\n",
    "print(f\"Params: {count_parameters(net)}\")"
   ]
  }
 ],
 "metadata": {
  "kernelspec": {
   "display_name": "venv",
   "language": "python",
   "name": "venv"
  },
  "language_info": {
   "codemirror_mode": {
    "name": "ipython",
    "version": 3
   },
   "file_extension": ".py",
   "mimetype": "text/x-python",
   "name": "python",
   "nbconvert_exporter": "python",
   "pygments_lexer": "ipython3",
   "version": "3.9.5"
  }
 },
 "nbformat": 4,
 "nbformat_minor": 5
}
