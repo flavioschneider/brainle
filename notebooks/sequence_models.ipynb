{
 "cells": [
  {
   "cell_type": "code",
   "execution_count": 1,
   "id": "532ee33f",
   "metadata": {},
   "outputs": [],
   "source": [
    "import os\n",
    "import sys\n",
    "sys.path.append(os.path.abspath(os.path.join('..')))"
   ]
  },
  {
   "cell_type": "code",
   "execution_count": 2,
   "id": "352a47ec",
   "metadata": {},
   "outputs": [],
   "source": [
    "import math\n",
    "import torch\n",
    "import torch.nn as nn\n",
    "import torch.nn.functional as F\n",
    "\n",
    "from einops import parse_shape, rearrange, repeat"
   ]
  },
  {
   "cell_type": "code",
   "execution_count": 3,
   "id": "f75e3de9",
   "metadata": {},
   "outputs": [
    {
     "name": "stdout",
     "output_type": "stream",
     "text": [
      "{'L': 100, 'B': 10, 'H': 20} {'B': 10, 'H': 20}\n"
     ]
    }
   ],
   "source": [
    "sequence_length = 100 # L\n",
    "batch_size = 10 # B\n",
    "input_size = 15 # N\n",
    "hidden_size = 20 # H == output_size\n",
    "\n",
    "rnn = nn.GRU(input_size=input_size, hidden_size=hidden_size, num_layers=1)\n",
    "\n",
    "input = torch.randn(sequence_length, batch_size, input_size)\n",
    "h0 = torch.randn(1, batch_size, hidden_size)\n",
    "output, hn = rnn(input, h0)\n",
    "\n",
    "out_shape = parse_shape(output, 'L B H')\n",
    "hn_shape = parse_shape(hn, '_ B H')\n",
    "\n",
    "print(out_shape, hn_shape)\n",
    "\n",
    "# Good thing is that we can provide inputs of different lengths.\n",
    "# Bad thing is that the entire provided sequence is computed sequentially. "
   ]
  },
  {
   "cell_type": "code",
   "execution_count": 4,
   "id": "498e7b49",
   "metadata": {},
   "outputs": [
    {
     "data": {
      "text/plain": [
       "torch.Size([1, 100, 64])"
      ]
     },
     "execution_count": 4,
     "metadata": {},
     "output_type": "execute_result"
    }
   ],
   "source": [
    "from brainle.models.architectures.attention import CausalSelfAttention\n",
    "\n",
    "net = CausalSelfAttention(\n",
    "    embedding_dim = 64,\n",
    "    num_heads = 4, \n",
    "    block_size = 100,\n",
    "    dropout_attention = 0.5,\n",
    "    dropout_residual = 0.5\n",
    ")\n",
    "\n",
    "net(torch.rand(1, 100, 64)).shape"
   ]
  },
  {
   "cell_type": "code",
   "execution_count": 5,
   "id": "4ba4337b",
   "metadata": {},
   "outputs": [
    {
     "name": "stdout",
     "output_type": "stream",
     "text": [
      "torch.Size([2, 511, 512])\n"
     ]
    }
   ],
   "source": [
    "from brainle.models.architectures.attention import SelfMemoryBlock\n",
    "\n",
    "block = SelfMemoryBlock(\n",
    "    embedding_dim = 512,\n",
    "    num_heads = 4,\n",
    "    memory_size = 2048,\n",
    "    kernel_size = 4,\n",
    "    stride = 2\n",
    ")      \n",
    "\n",
    "out = block(torch.rand(2, 1024, 512))\n",
    "print(out.shape)\n",
    "  "
   ]
  }
 ],
 "metadata": {
  "kernelspec": {
   "display_name": "venv",
   "language": "python",
   "name": "venv"
  },
  "language_info": {
   "codemirror_mode": {
    "name": "ipython",
    "version": 3
   },
   "file_extension": ".py",
   "mimetype": "text/x-python",
   "name": "python",
   "nbconvert_exporter": "python",
   "pygments_lexer": "ipython3",
   "version": "3.9.5"
  }
 },
 "nbformat": 4,
 "nbformat_minor": 5
}
