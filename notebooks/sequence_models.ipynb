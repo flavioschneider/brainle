{
 "cells": [
  {
   "cell_type": "code",
   "execution_count": 1,
   "id": "532ee33f",
   "metadata": {},
   "outputs": [],
   "source": [
    "import os\n",
    "import sys\n",
    "sys.path.append(os.path.abspath(os.path.join('..')))"
   ]
  },
  {
   "cell_type": "code",
   "execution_count": 2,
   "id": "352a47ec",
   "metadata": {},
   "outputs": [],
   "source": [
    "import math\n",
    "import torch\n",
    "import torch.nn as nn\n",
    "import torch.nn.functional as F\n",
    "\n",
    "from einops import parse_shape, rearrange, repeat\n",
    "\n",
    "def count_parameters(model: nn.Module):\n",
    "    return sum(p.numel() for p in model.parameters() if p.requires_grad)"
   ]
  },
  {
   "cell_type": "code",
   "execution_count": 3,
   "id": "f75e3de9",
   "metadata": {},
   "outputs": [
    {
     "name": "stdout",
     "output_type": "stream",
     "text": [
      "{'L': 100, 'B': 10, 'H': 20} {'B': 10, 'H': 20}\n"
     ]
    }
   ],
   "source": [
    "sequence_length = 100 # L\n",
    "batch_size = 10 # B\n",
    "input_size = 15 # N\n",
    "hidden_size = 20 # H == output_size\n",
    "\n",
    "rnn = nn.GRU(input_size=input_size, hidden_size=hidden_size, num_layers=1)\n",
    "\n",
    "input = torch.randn(sequence_length, batch_size, input_size)\n",
    "h0 = torch.randn(1, batch_size, hidden_size)\n",
    "output, hn = rnn(input, h0)\n",
    "\n",
    "out_shape = parse_shape(output, 'L B H')\n",
    "hn_shape = parse_shape(hn, '_ B H')\n",
    "\n",
    "print(out_shape, hn_shape)\n",
    "\n",
    "# Good thing is that we can provide inputs of different lengths.\n",
    "# Bad thing is that the entire provided sequence is computed sequentially. "
   ]
  },
  {
   "cell_type": "code",
   "execution_count": 4,
   "id": "498e7b49",
   "metadata": {},
   "outputs": [
    {
     "data": {
      "text/plain": [
       "1050624"
      ]
     },
     "execution_count": 4,
     "metadata": {},
     "output_type": "execute_result"
    }
   ],
   "source": [
    "from brainle.models.architectures.attention import CausalSelfAttention\n",
    "\n",
    "net = CausalSelfAttention(\n",
    "    embedding_dim = 512,\n",
    "    num_heads = 4, \n",
    "    block_size = 100,\n",
    "    dropout_attention = 0.5,\n",
    "    dropout_residual = 0.5\n",
    ")\n",
    "\n",
    "net(torch.rand(1, 100, 512)).shape\n",
    "count_parameters(net)"
   ]
  },
  {
   "cell_type": "code",
   "execution_count": 13,
   "id": "4ba4337b",
   "metadata": {},
   "outputs": [
    {
     "name": "stdout",
     "output_type": "stream",
     "text": [
      "torch.Size([1, 2048, 1024])\n",
      "torch.Size([1, 256, 1024])\n",
      "torch.Size([1, 2048, 1024])\n",
      "Encode params: 2758688\n",
      "Decode params: 2758784\n",
      "\n",
      "With L=6, kernel_size=4, stride=2 we have a receptive field of 190 tokens at L=0, and:\n",
      "* With an average english sentence of ~20 words at 5 letters per word we get max 1.9 sentences of attention per token at L=6 \n",
      "\n"
     ]
    }
   ],
   "source": [
    "from brainle.models.architectures.attention import SelfMemoryEncode, SelfMemoryDecode\n",
    "\n",
    "encode = SelfMemoryEncode(\n",
    "    embedding_dim = 1024,\n",
    "    num_heads = 8,\n",
    "    memory_size = 4096,\n",
    "    kernel_size = 4,\n",
    "    stride = 2,\n",
    "    padding = 1\n",
    ")   \n",
    "\n",
    "x = torch.rand(1, 2048, 1024)\n",
    "print(x.shape)\n",
    "\n",
    "z = encode(encode(encode(x))) \n",
    "print(z.shape)\n",
    "\n",
    "decode = SelfMemoryDecode(\n",
    "    embedding_dim = 1024,\n",
    "    num_heads = 8,\n",
    "    memory_size = 4096,\n",
    "    kernel_size = 4,\n",
    "    stride = 2,\n",
    "    padding = 1\n",
    ")\n",
    "\n",
    "out = decode(decode(decode(z)))\n",
    "print(out.shape)\n",
    "\n",
    "print(f\"Encode params: {count_parameters(encode)}\")\n",
    "print(f\"Decode params: {count_parameters(decode)}\")\n",
    "\n",
    "# Receptive field with L encode layers:\n",
    "k = 4\n",
    "L = 6\n",
    "receptive_field = 2**L * (k-1) - k + 2 # ... exponential in L\n",
    "print(f\"\"\"\n",
    "With L={L}, kernel_size={k}, stride=2 we have a receptive field of {receptive_field} tokens at L=0, and:\n",
    "* With an average english sentence of ~20 words at 5 letters per word we get max {receptive_field / 100} sentences of attention per token at L={L} \n",
    "\"\"\")"
   ]
  },
  {
   "cell_type": "code",
   "execution_count": 6,
   "id": "793cd654",
   "metadata": {},
   "outputs": [
    {
     "name": "stderr",
     "output_type": "stream",
     "text": [
      "Reusing dataset wikitext (/Users/flavioschneider/.cache/huggingface/datasets/wikitext/wikitext-2-raw-v1/1.0.0/a241db52902eaf2c6aa732210bead40c090019a499ceb13bcbfa3f8ab646a126)\n"
     ]
    }
   ],
   "source": [
    "from datasets import load_dataset\n",
    "\n",
    "dataset = load_dataset(\"wikitext\", \"wikitext-2-raw-v1\", split='train')"
   ]
  }
 ],
 "metadata": {
  "kernelspec": {
   "display_name": "venv",
   "language": "python",
   "name": "venv"
  },
  "language_info": {
   "codemirror_mode": {
    "name": "ipython",
    "version": 3
   },
   "file_extension": ".py",
   "mimetype": "text/x-python",
   "name": "python",
   "nbconvert_exporter": "python",
   "pygments_lexer": "ipython3",
   "version": "3.9.5"
  }
 },
 "nbformat": 4,
 "nbformat_minor": 5
}
