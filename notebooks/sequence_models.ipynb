{
 "cells": [
  {
   "cell_type": "code",
   "execution_count": 1,
   "id": "9fa5a0e8",
   "metadata": {},
   "outputs": [],
   "source": [
    "import os\n",
    "import sys\n",
    "sys.path.append(os.path.abspath(os.path.join('..')))"
   ]
  },
  {
   "cell_type": "code",
   "execution_count": 2,
   "id": "064d26c7",
   "metadata": {},
   "outputs": [
    {
     "ename": "NameError",
     "evalue": "name 'nn' is not defined",
     "output_type": "error",
     "traceback": [
      "\u001b[0;31m---------------------------------------------------------------------------\u001b[0m",
      "\u001b[0;31mNameError\u001b[0m                                 Traceback (most recent call last)",
      "Input \u001b[0;32mIn [2]\u001b[0m, in \u001b[0;36m<module>\u001b[0;34m\u001b[0m\n\u001b[1;32m      5\u001b[0m input_size \u001b[38;5;241m=\u001b[39m \u001b[38;5;241m15\u001b[39m \u001b[38;5;66;03m# N\u001b[39;00m\n\u001b[1;32m      6\u001b[0m hidden_size \u001b[38;5;241m=\u001b[39m \u001b[38;5;241m20\u001b[39m \u001b[38;5;66;03m# H == output_size\u001b[39;00m\n\u001b[0;32m----> 8\u001b[0m rnn \u001b[38;5;241m=\u001b[39m \u001b[43mnn\u001b[49m\u001b[38;5;241m.\u001b[39mGRU(input_size\u001b[38;5;241m=\u001b[39minput_size, hidden_size\u001b[38;5;241m=\u001b[39mhidden_size, num_layers\u001b[38;5;241m=\u001b[39m\u001b[38;5;241m1\u001b[39m)\n\u001b[1;32m     10\u001b[0m \u001b[38;5;28minput\u001b[39m \u001b[38;5;241m=\u001b[39m torch\u001b[38;5;241m.\u001b[39mrandn(sequence_length, batch_size, input_size)\n\u001b[1;32m     11\u001b[0m h0 \u001b[38;5;241m=\u001b[39m torch\u001b[38;5;241m.\u001b[39mrandn(\u001b[38;5;241m1\u001b[39m, batch_size, hidden_size)\n",
      "\u001b[0;31mNameError\u001b[0m: name 'nn' is not defined"
     ]
    }
   ],
   "source": [
    "from einops import parse_shape\n",
    "\n",
    "sequence_length = 100 # L\n",
    "batch_size = 10 # B\n",
    "input_size = 15 # N\n",
    "hidden_size = 20 # H == output_size\n",
    "\n",
    "rnn = nn.GRU(input_size=input_size, hidden_size=hidden_size, num_layers=1)\n",
    "\n",
    "input = torch.randn(sequence_length, batch_size, input_size)\n",
    "h0 = torch.randn(1, batch_size, hidden_size)\n",
    "output, hn = rnn(input, h0)\n",
    "\n",
    "out_shape = parse_shape(output, 'L B H')\n",
    "hn_shape = parse_shape(hn, '_ B H')\n",
    "\n",
    "print(out_shape, hn_shape)\n",
    "\n",
    "# Good thing is that we can provide inputs of different lengths.\n",
    "# Bad thing is that the entire provided sequence is computed sequentially. "
   ]
  },
  {
   "cell_type": "code",
   "execution_count": null,
   "id": "3f84ec5a",
   "metadata": {},
   "outputs": [],
   "source": [
    "k = 1024 # vocab size = number of symbols = num_embeddings\n",
    "d = 64 # embedding_dim \n",
    "\n",
    "key = nn.Linear(in_features = d, out_features = d)\n",
    "\n",
    "emb = nn.Embedding(k, d)\n",
    "x = emb(torch.tensor([1, 100, 999, 55]))\n",
    "print(x.shape) # the length of the input is L=4 <=! num_blocks = block_size\n",
    "\n",
    "x = rearrange(x, 'L D -> 1 L D')\n",
    "\n",
    "print(x.shape)\n",
    "\n",
    "k = key(x)\n",
    "\n",
    "print(k.shape)\n",
    "\n",
    "num_heads = 2\n",
    "k = rearrange(k, 'b s (num_heads heads_dim) -> b num_heads s heads_dim', num_heads = num_heads)\n",
    "print(k.shape)\n",
    "\n"
   ]
  },
  {
   "cell_type": "code",
   "execution_count": 3,
   "id": "827c9ccc",
   "metadata": {},
   "outputs": [
    {
     "data": {
      "text/plain": [
       "torch.Size([1, 100, 64])"
      ]
     },
     "execution_count": 3,
     "metadata": {},
     "output_type": "execute_result"
    }
   ],
   "source": [
    "import math\n",
    "import torch\n",
    "import torch.nn as nn\n",
    "import torch.nn.functional as F\n",
    "\n",
    "from brainle.models.architectures.attention import CausalSelfAttention\n",
    "\n",
    "net = CausalSelfAttention(\n",
    "    embedding_dim = 64,\n",
    "    num_heads = 4, \n",
    "    block_size = 100,\n",
    "    dropout_attention = 0.5,\n",
    "    dropout_residual = 0.5\n",
    ")\n",
    "\n",
    "net(torch.rand(1, 100, 64)).shape"
   ]
  },
  {
   "cell_type": "code",
   "execution_count": 99,
   "id": "ece96cce",
   "metadata": {},
   "outputs": [
    {
     "data": {
      "text/plain": [
       "tensor(2.2361)"
      ]
     },
     "execution_count": 99,
     "metadata": {},
     "output_type": "execute_result"
    }
   ],
   "source": [
    "torch.sqrt(torch.tensor(5))"
   ]
  },
  {
   "cell_type": "code",
   "execution_count": 145,
   "id": "e814a32e",
   "metadata": {
    "scrolled": true
   },
   "outputs": [
    {
     "data": {
      "text/plain": [
       "tensor([ 6, 14])"
      ]
     },
     "execution_count": 145,
     "metadata": {},
     "output_type": "execute_result"
    }
   ],
   "source": [
    "torch.einsum('ik, k -> i', torch.tensor([[1,2],[3,4]]), torch.tensor([2,2]))"
   ]
  },
  {
   "cell_type": "code",
   "execution_count": null,
   "id": "ab88c597",
   "metadata": {},
   "outputs": [],
   "source": []
  }
 ],
 "metadata": {
  "kernelspec": {
   "display_name": "venv",
   "language": "python",
   "name": "venv"
  },
  "language_info": {
   "codemirror_mode": {
    "name": "ipython",
    "version": 3
   },
   "file_extension": ".py",
   "mimetype": "text/x-python",
   "name": "python",
   "nbconvert_exporter": "python",
   "pygments_lexer": "ipython3",
   "version": "3.9.5"
  }
 },
 "nbformat": 4,
 "nbformat_minor": 5
}
