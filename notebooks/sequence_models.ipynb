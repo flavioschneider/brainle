{
 "cells": [
  {
   "cell_type": "code",
   "execution_count": 1,
   "id": "532ee33f",
   "metadata": {},
   "outputs": [],
   "source": [
    "import os\n",
    "import sys\n",
    "sys.path.append(os.path.abspath(os.path.join('..')))"
   ]
  },
  {
   "cell_type": "code",
   "execution_count": 2,
   "id": "352a47ec",
   "metadata": {},
   "outputs": [],
   "source": [
    "import math\n",
    "import torch\n",
    "import torch.nn as nn\n",
    "import torch.nn.functional as F\n",
    "\n",
    "from einops import parse_shape, rearrange, repeat\n",
    "\n",
    "def count_parameters(model: nn.Module):\n",
    "    return sum(p.numel() for p in model.parameters() if p.requires_grad)"
   ]
  },
  {
   "cell_type": "code",
   "execution_count": 3,
   "id": "f75e3de9",
   "metadata": {},
   "outputs": [
    {
     "name": "stdout",
     "output_type": "stream",
     "text": [
      "{'L': 100, 'B': 10, 'H': 20} {'B': 10, 'H': 20}\n"
     ]
    }
   ],
   "source": [
    "sequence_length = 100 # L\n",
    "batch_size = 10 # B\n",
    "input_size = 15 # N\n",
    "hidden_size = 20 # H == output_size\n",
    "\n",
    "rnn = nn.GRU(input_size=input_size, hidden_size=hidden_size, num_layers=1)\n",
    "\n",
    "input = torch.randn(sequence_length, batch_size, input_size)\n",
    "h0 = torch.randn(1, batch_size, hidden_size)\n",
    "output, hn = rnn(input, h0)\n",
    "\n",
    "out_shape = parse_shape(output, 'L B H')\n",
    "hn_shape = parse_shape(hn, '_ B H')\n",
    "\n",
    "print(out_shape, hn_shape)\n",
    "\n",
    "# Good thing is that we can provide inputs of different lengths.\n",
    "# Bad thing is that the entire provided sequence is computed sequentially. "
   ]
  },
  {
   "cell_type": "code",
   "execution_count": 4,
   "id": "498e7b49",
   "metadata": {},
   "outputs": [
    {
     "name": "stdout",
     "output_type": "stream",
     "text": [
      "torch.Size([1, 100, 512])\n"
     ]
    },
    {
     "data": {
      "text/plain": [
       "1050624"
      ]
     },
     "execution_count": 4,
     "metadata": {},
     "output_type": "execute_result"
    }
   ],
   "source": [
    "from brainle.models.architectures.attention import CausalSelfAttention\n",
    "\n",
    "net = CausalSelfAttention(\n",
    "    embedding_dim = 512,\n",
    "    num_heads = 4, \n",
    "    block_size = 100,\n",
    "    dropout_attention = 0.5,\n",
    "    dropout_residual = 0.5\n",
    ")\n",
    "\n",
    "print(net(torch.rand(1, 100, 512)).shape)\n",
    "count_parameters(net)\n",
    "\n"
   ]
  },
  {
   "cell_type": "code",
   "execution_count": 6,
   "id": "9410f711",
   "metadata": {},
   "outputs": [
    {
     "data": {
      "text/plain": [
       "25984000"
      ]
     },
     "execution_count": 6,
     "metadata": {},
     "output_type": "execute_result"
    }
   ],
   "source": [
    "from brainle.models.architectures.attention import GPT\n",
    "    \n",
    "mingpt = GPT(\n",
    "    vocabulary_size = 682,\n",
    "    embedding_dim = 512,\n",
    "    num_layers = 8,\n",
    "    num_heads = 8, \n",
    "    block_size = 128,\n",
    "    dropout_embedding = 0.1,\n",
    "    dropout_attention = 0.1,\n",
    "    dropout_residual = 0.1,\n",
    ")\n",
    "\n",
    "x = torch.randint(low=0, high=682, size=(2, 128)) \n",
    "mingpt(x).shape\n",
    "count_parameters(mingpt)"
   ]
  },
  {
   "cell_type": "code",
   "execution_count": 7,
   "id": "4ba4337b",
   "metadata": {},
   "outputs": [
    {
     "name": "stdout",
     "output_type": "stream",
     "text": [
      "torch.Size([1, 1000, 1024])\n",
      "torch.Size([1, 7, 1024])\n",
      "torch.Size([1, 56, 1024])\n",
      "Encode params: 2758688\n",
      "Decode params: 2758784\n",
      "\n",
      "With L=6, kernel_size=4, stride=2 we have a receptive field of 190 tokens at L=0, and:\n",
      "* With an average english sentence of ~20 words at 5 letters per word we get max 1.9 sentences of attention per token at L=6 \n",
      "\n"
     ]
    }
   ],
   "source": [
    "from brainle.models.architectures.attention import SelfMemoryEncode, SelfMemoryDecode\n",
    "\n",
    "encode = SelfMemoryEncode(\n",
    "    embedding_dim = 1024,\n",
    "    num_heads = 8,\n",
    "    memory_size = 4096,\n",
    "    kernel_size = 4,\n",
    "    stride = 2,\n",
    "    padding = 1\n",
    ")   \n",
    "\n",
    "x = torch.rand(1, 1000, 1024)\n",
    "print(x.shape)\n",
    "\n",
    "z = encode(encode(encode(encode(encode(encode(encode(x)))))))\n",
    "print(z.shape)\n",
    "\n",
    "decode = SelfMemoryDecode(\n",
    "    embedding_dim = 1024,\n",
    "    num_heads = 8,\n",
    "    memory_size = 4096,\n",
    "    kernel_size = 4,\n",
    "    stride = 2,\n",
    "    padding = 1\n",
    ")\n",
    "\n",
    "out = decode(decode(decode(z)))\n",
    "print(out.shape)\n",
    "\n",
    "print(f\"Encode params: {count_parameters(encode)}\")\n",
    "print(f\"Decode params: {count_parameters(decode)}\")\n",
    "\n",
    "# Receptive field with L encode layers:\n",
    "k = 4\n",
    "L = 6\n",
    "receptive_field = 2**L * (k-1) - k + 2 # ... exponential in L\n",
    "print(f\"\"\"\n",
    "With L={L}, kernel_size={k}, stride=2 we have a receptive field of {receptive_field} tokens at L=0, and:\n",
    "* With an average english sentence of ~20 words at 5 letters per word we get max {receptive_field / 100} sentences of attention per token at L={L} \n",
    "\"\"\")"
   ]
  },
  {
   "cell_type": "code",
   "execution_count": 8,
   "id": "5cb02306",
   "metadata": {},
   "outputs": [
    {
     "name": "stderr",
     "output_type": "stream",
     "text": [
      "Reusing dataset wikitext (/Users/flavioschneider/.cache/huggingface/datasets/wikitext/wikitext-2-raw-v1/1.0.0/a241db52902eaf2c6aa732210bead40c090019a499ceb13bcbfa3f8ab646a126)\n"
     ]
    },
    {
     "data": {
      "text/plain": [
       "' = Valkyria Chronicles III = \\n Senjō no Valkyria 3 : Unrecorded Chronicles ( Japanese : 戦場のヴァルキュリア3 , lit . Valkyria of the Battlefield 3 ) , commonly referred to as Valkyria Chronicles III outside Japan , is a tactical role @-@ playing video game developed by Sega and Media.Vision for the PlayStation Portable . Released in January 2011 in Japan , it is the third game in the Valkyria series . Employing the same fusion of tactical and real @-@ time gameplay as its predecessors , the story runs parallel to the first game and follows the \" Nameless \" , a penal military unit serving the nation of Gallia during the Second Europan War who perform secret black operations and are pitted against the Imperial unit \" Calamaty Raven \" . \\n The game began development in 2010 , carrying over a large portion of the work done on Valkyria Chronicles II . While it retained the standard features of the series , it also underwent multiple adjustments , such as making the game more forgiving for series newc'"
      ]
     },
     "execution_count": 8,
     "metadata": {},
     "output_type": "execute_result"
    }
   ],
   "source": [
    "from datasets import load_dataset\n",
    "\n",
    "dataset = load_dataset(\"wikitext\", \"wikitext-2-raw-v1\", split='train')\n",
    "\n",
    "text = ''\n",
    "for i in range(len(dataset)):\n",
    "    text += dataset[i]['text']\n",
    "\n",
    "text[0:1000]"
   ]
  },
  {
   "cell_type": "code",
   "execution_count": 9,
   "id": "b61e7f24",
   "metadata": {
    "scrolled": true
   },
   "outputs": [
    {
     "name": "stdout",
     "output_type": "stream",
     "text": [
      "Alphabet size 837\n",
      "10892783 128 128\n",
      "lkyria 3 : Unrecorded Chronicles ( Japanese : ▢場のウァルキュリア3 ▢ ▢▢▢ . Valkyria▢of ▢he B▢ttle▢ield 3 ) , com▢only referred to as Valk\n"
     ]
    }
   ],
   "source": [
    "from brainle.datamodules.datasets.masked_char_dataset import MaskedCharDataset \n",
    "\n",
    "    \n",
    "dataset = MaskedCharDataset(text, block_size=128, p_word_mask=0.15, p_char_mask=0.05)\n",
    "x, mask = dataset[42]\n",
    "chunk = dataset.decode(x.numpy())\n",
    "chunk = ''.join([ char if mask[idx] else '▢' for idx, char in enumerate(chunk) ])\n",
    "\n",
    "print(len(dataset), len(x), len(mask))\n",
    "print(chunk)"
   ]
  },
  {
   "cell_type": "code",
   "execution_count": 10,
   "id": "a51dcf07",
   "metadata": {
    "scrolled": false
   },
   "outputs": [
    {
     "name": "stdout",
     "output_type": "stream",
     "text": [
      "torch.Size([2, 2048, 682])\n"
     ]
    },
    {
     "data": {
      "text/plain": [
       "7903082"
      ]
     },
     "execution_count": 10,
     "metadata": {},
     "output_type": "execute_result"
    }
   ],
   "source": [
    "from brainle.models.architectures.attention import SMUNet\n",
    "\n",
    "net = SMUNet(\n",
    "    vocabulary_size = 682,\n",
    "    embedding_dim = 1024,\n",
    "    num_layers = 1,\n",
    "    memory_sizes = [512],\n",
    "    num_heads = 8,\n",
    "    kernel_size = 2,\n",
    "    stride = 2,\n",
    "    padding = 0,\n",
    "    use_skip = True \n",
    ")\n",
    "\n",
    "x = torch.randint(low=0, high=682, size=(2, 2048)) \n",
    "y = net(x)\n",
    "print(y.shape)\n",
    "count_parameters(net)"
   ]
  },
  {
   "cell_type": "code",
   "execution_count": 11,
   "id": "4b66eac0",
   "metadata": {},
   "outputs": [
    {
     "name": "stdout",
     "output_type": "stream",
     "text": [
      "torch.Size([2048, 1])\n",
      "torch.Size([2048])\n",
      "tensor([472, 361, 472, 361, 472, 361, 472, 361, 472, 361, 472, 361, 472, 361,\n",
      "        472, 361, 472, 361, 472, 361, 472, 361, 472, 361, 472, 361, 472, 361,\n",
      "        472, 361, 472, 361, 472, 361, 472, 361, 472, 361, 472, 361, 472, 361,\n",
      "        472, 361, 472, 361, 472, 361, 472, 361, 472, 361, 472, 361, 472, 361,\n",
      "        472, 361, 472, 361, 472, 361, 472, 361, 472, 361, 472, 361, 472, 361,\n",
      "        472, 361, 472, 361, 472, 361, 472, 361, 472, 361, 472, 361, 472, 361,\n",
      "        472, 361, 472, 361, 472, 361, 472, 361, 472, 361, 472, 361, 472, 361,\n",
      "        472, 361])\n"
     ]
    }
   ],
   "source": [
    "x = torch.randint(low=0, high=682, size=(2, 2048)) \n",
    "y = F.softmax(net(x), dim=-1)\n",
    "#print(y.shape, y)\n",
    "\n",
    "ids = torch.topk(y, k=1, dim=-1)[1]\n",
    "print(ids[0].shape)\n",
    "ids = rearrange(ids, 'b s 1 -> b s')\n",
    "print(ids[0].shape)\n",
    "print(ids[0][0:100])\n",
    "\n",
    "chunks = []\n",
    "for i in range(2):\n",
    "    chunks += [''.join(dataset.decode(ids[i].numpy().tolist()))]\n",
    "    \n",
    "#print(chunks)"
   ]
  },
  {
   "cell_type": "code",
   "execution_count": null,
   "id": "e4211e1e",
   "metadata": {},
   "outputs": [],
   "source": []
  }
 ],
 "metadata": {
  "kernelspec": {
   "display_name": "venv",
   "language": "python",
   "name": "venv"
  },
  "language_info": {
   "codemirror_mode": {
    "name": "ipython",
    "version": 3
   },
   "file_extension": ".py",
   "mimetype": "text/x-python",
   "name": "python",
   "nbconvert_exporter": "python",
   "pygments_lexer": "ipython3",
   "version": "3.9.5"
  }
 },
 "nbformat": 4,
 "nbformat_minor": 5
}
